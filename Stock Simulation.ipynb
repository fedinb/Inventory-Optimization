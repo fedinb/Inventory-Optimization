{
 "cells": [
  {
   "cell_type": "code",
   "execution_count": 1,
   "metadata": {},
   "outputs": [],
   "source": [
    "import numpy as np\n",
    "import pandas as pd\n",
    "import glob, os\n",
    "from scipy.stats import norm\n",
    "import matplotlib.pyplot as plt"
   ]
  },
  {
   "cell_type": "code",
   "execution_count": 2,
   "metadata": {},
   "outputs": [],
   "source": [
    "pd.set_option('display.width', 150)"
   ]
  },
  {
   "cell_type": "code",
   "execution_count": 3,
   "metadata": {},
   "outputs": [],
   "source": [
    "path = r'C:\\Users\\БФедин\\OneDrive - GENERIX\\InventoryReports\\Baltika'\n",
    "all_files = glob.glob(path + \"/*.txt\")"
   ]
  },
  {
   "cell_type": "code",
   "execution_count": 4,
   "metadata": {},
   "outputs": [],
   "source": [
    "col_specification = [(0,2),(2,15),(15,28),(28,30),\n",
    "                     (30,34),(34,36),(36,38),(38,42),(42,52),(52,62)]"
   ]
  },
  {
   "cell_type": "code",
   "execution_count": 5,
   "metadata": {},
   "outputs": [],
   "source": [
    "li = []\n",
    "\n",
    "for filename in all_files:\n",
    "    df = pd.read_fwf(filename, header=None,colspecs=col_specification,float_format='%.f')\n",
    "    li.append(df)\n",
    "\n",
    "df = pd.concat(li, axis=0, ignore_index=True)\n",
    "\n",
    "df = df.dropna() # Script drops N/A values. They may appear if file has blank lines.\n",
    "\n",
    "df.columns = ['Movement_Code','GLN_Code','EAN_Code','Site_Item_Type',\n",
    "                  'Case_Count','Movement_Day','Movement_Month','Movement_Year',\n",
    "                    'Quantity','Base_Unit_Code']"
   ]
  },
  {
   "cell_type": "code",
   "execution_count": 6,
   "metadata": {},
   "outputs": [],
   "source": [
    "df[['GLN_Code','EAN_Code','Base_Unit_Code','Case_Count']] = \\\n",
    "df[['GLN_Code','EAN_Code','Base_Unit_Code','Case_Count']].astype(str).replace('\\.0', '', regex=True)\n",
    "\n",
    "df['Quantity'] = df['Quantity'].astype(int)"
   ]
  },
  {
   "cell_type": "code",
   "execution_count": 7,
   "metadata": {},
   "outputs": [],
   "source": [
    "df['Movement_Day'] = df['Movement_Day'].astype(str).replace('\\.0', '', regex=True)\n",
    "df['Movement_Day'] = df['Movement_Day'].str.zfill(2)\n",
    "df['Movement_Month'] = df['Movement_Month'].astype(str).replace('\\.0', '', regex=True)\n",
    "df['Movement_Month'] = df['Movement_Month'].str.zfill(2)\n",
    "df['Movement_Year'] = df['Movement_Year'].apply(str).replace('\\.0', '', regex=True)\n",
    "df['Movement_Date'] = df[\"Movement_Day\"] + \"-\" + df[\"Movement_Month\"] + \"-\" + df[\"Movement_Year\"]\n",
    "df['Movement_Date'] = df['Movement_Date'].apply(str).replace('\\.0', '', regex=True)\n",
    "df['Movement_Date'] = pd.to_datetime(df.Movement_Date,format = '%d-%m-%Y', dayfirst=True)\n",
    "df = df.drop(['Movement_Day','Movement_Month','Movement_Year'], axis=1) "
   ]
  },
  {
   "cell_type": "code",
   "execution_count": 8,
   "metadata": {},
   "outputs": [],
   "source": [
    "if 5 in df['Movement_Code']:\n",
    "    df['Movement_Code'] = df['Movement_Code'].replace([1,4,3,5],\n",
    "                                                      ['Stock','Transit','Shipped','OOS'])\n",
    "else: \n",
    "    df['Movement_Code'] = df['Movement_Code'].replace([1,4,3],\n",
    "                                                      ['Stock','Transit','Shipped'])"
   ]
  },
  {
   "cell_type": "code",
   "execution_count": 9,
   "metadata": {},
   "outputs": [],
   "source": [
    "df['Site_Item_Type'] = df['Site_Item_Type'].replace([0,1],\n",
    "                                                    ['Standard','Promo'])"
   ]
  },
  {
   "cell_type": "code",
   "execution_count": 10,
   "metadata": {},
   "outputs": [],
   "source": [
    "df = df[['Movement_Code','GLN_Code','EAN_Code','Site_Item_Type',\n",
    "                  'Case_Count','Movement_Date','Quantity','Base_Unit_Code']]"
   ]
  },
  {
   "cell_type": "code",
   "execution_count": 11,
   "metadata": {},
   "outputs": [],
   "source": [
    "dfPivot = pd.pivot_table(df,aggfunc='sum',values='Quantity',\n",
    "                         index=['Movement_Date','EAN_Code','Base_Unit_Code'],\n",
    "                         columns='Movement_Code').reset_index()"
   ]
  },
  {
   "cell_type": "code",
   "execution_count": 12,
   "metadata": {},
   "outputs": [],
   "source": [
    "dfPivot = dfPivot.fillna(0)"
   ]
  },
  {
   "cell_type": "code",
   "execution_count": 13,
   "metadata": {},
   "outputs": [],
   "source": [
    "Movement_Codes_Order = ['Movement_Week','Movement_Date','EAN_Code','Base_Unit_Code',\n",
    "                        'Stock','Transit','Shipped','OOS','Demand']\n",
    "\n",
    "dfPivot = dfPivot.reindex(Movement_Codes_Order,axis=1)"
   ]
  },
  {
   "cell_type": "code",
   "execution_count": 14,
   "metadata": {},
   "outputs": [],
   "source": [
    "dfPivot['Movement_Week'] = 'cw'+dfPivot['Movement_Date'].dt.strftime('%V')"
   ]
  },
  {
   "cell_type": "code",
   "execution_count": 15,
   "metadata": {},
   "outputs": [],
   "source": [
    "if 'OOS' in df['Movement_Code'].unique():\n",
    "    dfPivot['OOS'] = dfPivot['OOS'].fillna(0)\n",
    "    dfPivot['Demand'] = dfPivot['Shipped'] + dfPivot['OOS']\n",
    "else:\n",
    "    dfPivot['OOS'] = dfPivot['OOS'].fillna(0)\n",
    "    dfPivot['Demand'] = dfPivot['Shipped']"
   ]
  },
  {
   "cell_type": "code",
   "execution_count": 16,
   "metadata": {},
   "outputs": [],
   "source": [
    "dfPivot = dfPivot.rename_axis(\"Line_ID\",axis=1)"
   ]
  },
  {
   "cell_type": "code",
   "execution_count": 17,
   "metadata": {},
   "outputs": [],
   "source": [
    "dfPivot.iloc[:, 4:] = dfPivot.iloc[:, 4:].astype(int)"
   ]
  },
  {
   "cell_type": "code",
   "execution_count": 18,
   "metadata": {},
   "outputs": [],
   "source": [
    "dfPivot = dfPivot.sort_values(by=['Movement_Date'],ascending=False,inplace=False)"
   ]
  },
  {
   "cell_type": "code",
   "execution_count": 19,
   "metadata": {},
   "outputs": [],
   "source": [
    "dfPivot.reset_index(drop=True,inplace=True)\n",
    "dfPivot.sort_index(ascending=False,inplace=True)"
   ]
  },
  {
   "cell_type": "markdown",
   "metadata": {},
   "source": [
    "--- **Data Aggregation and Cleaning were here** ---\n",
    "\n",
    "Initially this script included lines meant for data aggregation and cleaning. As the process is going to be the same for all upcoming scripts, these lines are deleted. However, they can be found in the first script related to Safety and Cycle Stock calculation."
   ]
  },
  {
   "cell_type": "markdown",
   "metadata": {},
   "source": [
    "--- **Stock Simulation script starts here** ---"
   ]
  },
  {
   "cell_type": "markdown",
   "metadata": {},
   "source": [
    "Product chosen for this script is one of supplier's topsellers. It's is rarely included in promo activities."
   ]
  },
  {
   "cell_type": "code",
   "execution_count": 20,
   "metadata": {},
   "outputs": [],
   "source": [
    "dfPivot = dfPivot[dfPivot['Base_Unit_Code']=='1000253382']"
   ]
  },
  {
   "cell_type": "markdown",
   "metadata": {},
   "source": [
    "Data sample for the chosen product is displayed below."
   ]
  },
  {
   "cell_type": "code",
   "execution_count": 38,
   "metadata": {},
   "outputs": [
    {
     "name": "stdout",
     "output_type": "stream",
     "text": [
      "Line_ID Movement_Week Movement_Date       EAN_Code Base_Unit_Code  Stock  Transit  Shipped  OOS  Demand\n",
      "701              cw53    2020-12-29  4600682009313     1000253382  73062        0     5166    0    5166\n",
      "5280             cw35    2020-08-28  4600682009313     1000253382  36823        0     6831   18    6849\n",
      "1309             cw50    2020-12-13  4600682009313     1000253382  61936    44064     9906    0    9906\n",
      "5949             cw33    2020-08-11  4600682009313     1000253382  49753    13392     5166    0    5166\n",
      "4356             cw39    2020-09-21  4600682009313     1000253382  18125    26784     9549    0    9549\n"
     ]
    }
   ],
   "source": [
    "print(dfPivot.sample(5))"
   ]
  },
  {
   "cell_type": "markdown",
   "metadata": {},
   "source": [
    "We choose calendar day as a period. "
   ]
  },
  {
   "cell_type": "code",
   "execution_count": 22,
   "metadata": {},
   "outputs": [],
   "source": [
    "dfOneProduct = dfPivot.groupby('Movement_Date',as_index=False)[['Stock','Shipped','OOS','Demand']].sum()"
   ]
  },
  {
   "cell_type": "markdown",
   "metadata": {},
   "source": [
    "Aggregated quantities can be observed in the following table."
   ]
  },
  {
   "cell_type": "code",
   "execution_count": 23,
   "metadata": {
    "scrolled": true
   },
   "outputs": [
    {
     "name": "stdout",
     "output_type": "stream",
     "text": [
      "Line_ID Movement_Date  Demand\n",
      "147        2021-01-09    3105\n",
      "148        2021-01-10    6237\n",
      "149        2021-01-11    6228\n",
      "150        2021-01-12    3636\n",
      "151        2021-01-13    4203\n",
      "152        2021-01-14   11430\n",
      "153        2021-01-15    5931\n",
      "154        2021-01-16    1944\n",
      "155        2021-01-17   10404\n",
      "156        2021-01-18   18999\n"
     ]
    }
   ],
   "source": [
    "print(dfOneProduct[['Movement_Date','Demand']].tail(10))"
   ]
  },
  {
   "cell_type": "markdown",
   "metadata": {},
   "source": [
    "*Z* is a demand threshold. Below we will calculate the probability for an occurence of demand quantity to be below *Z* value within a chosen period. I have set 15.000 as a demand threshold as it almost equals to the inverse CDF of a normal distribution."
   ]
  },
  {
   "cell_type": "code",
   "execution_count": 24,
   "metadata": {},
   "outputs": [],
   "source": [
    "z = 15000 # Random value chosen as a threshold. Just a bit above of the mean value."
   ]
  },
  {
   "cell_type": "markdown",
   "metadata": {},
   "source": [
    "*MU* is a mean value for product's demand. In our case it's calculated based on data since August 16th."
   ]
  },
  {
   "cell_type": "code",
   "execution_count": 25,
   "metadata": {},
   "outputs": [],
   "source": [
    "mu = np.round(dfOneProduct['Demand'].mean(),decimals=2) # mean value"
   ]
  },
  {
   "cell_type": "markdown",
   "metadata": {},
   "source": [
    "*Sigma* is standard deviation value for product's demand."
   ]
  },
  {
   "cell_type": "code",
   "execution_count": 26,
   "metadata": {},
   "outputs": [],
   "source": [
    "sigma = np.round((np.std(dfOneProduct['Demand'],ddof=1)),decimals=2) # standard deviation or std"
   ]
  },
  {
   "cell_type": "code",
   "execution_count": 27,
   "metadata": {
    "scrolled": false
   },
   "outputs": [
    {
     "name": "stdout",
     "output_type": "stream",
     "text": [
      "\n",
      " z: 15000 \n",
      " mu: 7244.08 \n",
      " sigma: 4147.2\n"
     ]
    }
   ],
   "source": [
    "print('\\n','z:',z,'\\n','mu:',mu,'\\n','sigma:',sigma)"
   ]
  },
  {
   "cell_type": "markdown",
   "metadata": {},
   "source": [
    "Below we compute the CDF of a normal distribution - Alpha. It's calculated based on inputs above only."
   ]
  },
  {
   "cell_type": "code",
   "execution_count": 28,
   "metadata": {},
   "outputs": [],
   "source": [
    "alpha = np.round(norm.cdf(z,mu,sigma),decimals=2)"
   ]
  },
  {
   "cell_type": "code",
   "execution_count": 29,
   "metadata": {},
   "outputs": [
    {
     "name": "stdout",
     "output_type": "stream",
     "text": [
      "alpha:  0.97\n"
     ]
    }
   ],
   "source": [
    "print('alpha: ',alpha)"
   ]
  },
  {
   "cell_type": "markdown",
   "metadata": {},
   "source": [
    "Below we declare additional variables that will be used in further calculations.\n",
    "\n",
    "What will be calculated:\n",
    "- Safety Stock\n",
    "- Cycle Stock\n",
    "- Stock in Transit\n",
    "- Total Stock\n",
    "- Cycle Service Level\n",
    "- Period Service Level"
   ]
  },
  {
   "cell_type": "code",
   "execution_count": 36,
   "metadata": {
    "scrolled": true
   },
   "outputs": [
    {
     "name": "stdout",
     "output_type": "stream",
     "text": [
      "Alpha: 97.0\n",
      "Cycle Service Level: 98.22\n",
      "Period Service Level: 98.3 \n",
      "\n",
      "     Demand  On-hand                   In-transit\n",
      "4     11093    15344    [4126, 6678, 7335, 11093]\n",
      "5     11927     7543   [6678, 7335, 11093, 11927]\n",
      "6     11190     3031  [7335, 11093, 11927, 11190]\n",
      "7      8421     1945  [11093, 11927, 11190, 8421]\n",
      "8      6188     6850   [11927, 11190, 8421, 6188]\n",
      "..      ...      ...                          ...\n",
      "995   13896     8180   [11360, 4026, 7114, 13896]\n",
      "996   10876     8664   [4026, 7114, 13896, 10876]\n",
      "997    2077    10613   [7114, 13896, 10876, 2077]\n",
      "998    4324    13403   [13896, 10876, 2077, 4324]\n",
      "999    5530    21769    [10876, 2077, 4324, 5530]\n",
      "\n",
      "[996 rows x 3 columns]\n"
     ]
    }
   ],
   "source": [
    "time = 1000\n",
    "\n",
    "d = np.maximum(np.random.normal(mu,sigma,time).round(0).astype(int),0)\n",
    "\n",
    "L = 3      # Lead Time\n",
    "R = 1      # Review Period \n",
    "\n",
    "z1 = norm.ppf(alpha)\n",
    "x_std = np.sqrt(L+R)*sigma\n",
    "Ss = np.round(x_std*z1).astype(int)  # Safety Stock\n",
    "Cs = 1/2 * mu * R                    # Cycle Stock\n",
    "Is = mu * L                          # In Transit Stock\n",
    "S = Ss + 2*Cs + Is                   # Total Stock\n",
    "\n",
    "hand = np.zeros(time,dtype=int)\n",
    "transit = np.zeros((time,L+1),dtype=int)\n",
    "\n",
    "hand[0] = S - d[0]\n",
    "transit[0,-1] = d[0]\n",
    "\n",
    "stockout_period = np.full(time,False,dtype=bool)   # Flags if there is a shortage during a period.\n",
    "stockout_cycle = []                                # Flags if we had a shortage at any time during the last cycle.\n",
    "\n",
    "for t in range(1,time):\n",
    "    if transit[t-1,0]>0:\n",
    "        stockout_cycle.append(stockout_period[t-1])\n",
    "    hand[t] = hand[t-1] - d[t] + transit[t-1,0]\n",
    "    stockout_period[t] = hand[t] < 0\n",
    "    hand[t] = max(0,hand[t]) # In my case excess demand results in lost sales rather than backorders\n",
    "    transit[t,:-1] = transit[t-1,1:]        \n",
    "    if 0==t%R:\n",
    "        net = hand[t] + transit[t].sum()    \n",
    "        transit[t,L] = S - net\n",
    "        \n",
    "print(\"Alpha:\",alpha*100)\n",
    "SL_alpha = 1-sum(stockout_cycle)/len(stockout_cycle)\n",
    "print(\"Cycle Service Level:\",round(SL_alpha*100,2))\n",
    "\n",
    "SL_period = 1-sum(stockout_period)/time\n",
    "print(\"Period Service Level:\",round(SL_period*100,2),'\\n')\n",
    "\n",
    "df_sim = pd.DataFrame(data= {\"Demand\":d,\"On-hand\":hand,\"In-transit\":list(transit)})\n",
    "df_sim = df_sim.iloc[R+L:,:] #Remove initialization periods\n",
    "print(df_sim)"
   ]
  },
  {
   "cell_type": "code",
   "execution_count": 35,
   "metadata": {
    "scrolled": true
   },
   "outputs": [
    {
     "data": {
      "text/plain": [
       "<matplotlib.collections.PolyCollection at 0x18a4abfacd0>"
      ]
     },
     "execution_count": 35,
     "metadata": {},
     "output_type": "execute_result"
    },
    {
     "data": {
      "image/png": "[encoded data removed]",
      "text/plain": [
       "<Figure size 432x288 with 1 Axes>"
      ]
     },
     "metadata": {
      "needs_background": "light"
     },
     "output_type": "display_data"
    }
   ],
   "source": [
    "df_sim[\"On-hand\"].plot(title=\"Inventory Policy (%d,%d)\" %(R,S),ylim=(0,S),legend=True,color='C0')\n",
    "\n",
    "x1, y1 = [0, t], [Ss, Ss] \n",
    "\n",
    "x2, y2 = [0, t], [Ss + 2*Cs, Ss + 2*Cs]\n",
    "\n",
    "plt.plot(x1, y1, color='C1')\n",
    "plt.plot(x2, y2, color='C1')\n",
    "\n",
    "plt.fill_between(x1, y1, y2, color='C1', alpha=0.5)"
   ]
  },
  {
   "cell_type": "markdown",
   "metadata": {},
   "source": [
    "Line chart represents the stock simulation for the chosen product. Besides product's parameters that may vary depending on the chosen product (*mean value, standard deviation, etc.*), static variables are the following:\n",
    "- **Review Period:** 1 day\n",
    "- **Lead Time:** 3 days\n",
    "- **Simulation period:** 1000 days\n",
    "\n",
    "The highlighted orange area shows the cycle stock range during the simulation period.\n",
    "\n",
    "In my opinion, potential ~98% service level is a good result!"
   ]
  }
 ],
 "metadata": {
  "kernelspec": {
   "display_name": "Python 3",
   "language": "python",
   "name": "python3"
  },
  "language_info": {
   "codemirror_mode": {
    "name": "ipython",
    "version": 3
   },
   "file_extension": ".py",
   "mimetype": "text/x-python",
   "name": "python",
   "nbconvert_exporter": "python",
   "pygments_lexer": "ipython3",
   "version": "3.8.3"
  }
 },
 "nbformat": 4,
 "nbformat_minor": 4
}
