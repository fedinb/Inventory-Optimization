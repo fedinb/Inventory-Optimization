{
 "cells": [
  {
   "cell_type": "code",
   "execution_count": 143,
   "metadata": {},
   "outputs": [],
   "source": [
    "import numpy as np\n",
    "import pandas as pd\n",
    "import glob, os\n",
    "from scipy.stats import norm\n",
    "import matplotlib.pyplot as plt"
   ]
  },
  {
   "cell_type": "markdown",
   "metadata": {},
   "source": [
    "--- **Data Aggregation and Cleaning were here** ---\n",
    "\n",
    "Initially this script included lines meant for data aggregation and cleaning. As the process is going to be the same for all upcoming scripts, these lines are deleted. However, they can be found in the first script related to Safety and Cycle Stock calculation."
   ]
  },
  {
   "cell_type": "markdown",
   "metadata": {},
   "source": [
    "--- **Fill Rate Simulation script starts here** ---"
   ]
  },
  {
   "cell_type": "markdown",
   "metadata": {},
   "source": [
    "Product chosen for this script is one of supplier's topsellers. It's is rarely included in promo activities."
   ]
  },
  {
   "cell_type": "code",
   "execution_count": 162,
   "metadata": {},
   "outputs": [],
   "source": [
    "dfPivot = dfPivot[dfPivot['Base_Unit_Code']=='1234567890']"
   ]
  },
  {
   "cell_type": "markdown",
   "metadata": {},
   "source": [
    "Data sample for the chosen product is displayed below."
   ]
  },
  {
   "cell_type": "code",
   "execution_count": 163,
   "metadata": {},
   "outputs": [
    {
     "name": "stdout",
     "output_type": "stream",
     "text": [
      "Line_ID Movement_Week Movement_Date       EAN_Code Base_Unit_Code  Stock  Transit  Shipped   OOS  Demand\n",
      "1759             cw49    2020-12-01  4600000000001     1234567890  12434    64800    10313     0   10313\n",
      "3204             cw43    2020-10-21  4600000000001     1234567890  63083    17712     6993     0    6993\n",
      "626              cw53    2021-01-02  4600000000001     1234567890  27557     6048    16146     0   16146\n",
      "1905             cw48    2020-11-27  4600000000001     1234567890  23315        0    16587  2835   19422\n",
      "2470             cw46    2020-11-11  4600000000001     1234567890  66632        0     7938     0    7938\n"
     ]
    }
   ],
   "source": [
    "print(dfPivot.sample(5))"
   ]
  },
  {
   "cell_type": "markdown",
   "metadata": {},
   "source": [
    "We choose calendar day as a period. "
   ]
  },
  {
   "cell_type": "code",
   "execution_count": 164,
   "metadata": {},
   "outputs": [],
   "source": [
    "dfOneProduct = dfPivot.groupby('Movement_Date',as_index=False)[['Stock','Shipped','OOS','Demand']].sum()"
   ]
  },
  {
   "cell_type": "markdown",
   "metadata": {},
   "source": [
    "Aggregated quantities can be observed in the following table."
   ]
  },
  {
   "cell_type": "code",
   "execution_count": 165,
   "metadata": {
    "scrolled": true
   },
   "outputs": [
    {
     "name": "stdout",
     "output_type": "stream",
     "text": [
      "Line_ID Movement_Date  Demand\n",
      "148        2021-01-10    6237\n",
      "149        2021-01-11    6228\n",
      "150        2021-01-12    3636\n",
      "151        2021-01-13    4203\n",
      "152        2021-01-14   11430\n",
      "153        2021-01-15    5931\n",
      "154        2021-01-16    1944\n",
      "155        2021-01-17   10404\n",
      "156        2021-01-18   18999\n",
      "157        2021-01-19   25766\n"
     ]
    }
   ],
   "source": [
    "print(dfOneProduct[['Movement_Date','Demand']].tail(10))"
   ]
  },
  {
   "cell_type": "markdown",
   "metadata": {},
   "source": [
    "*Z* is a demand threshold. Below we will calculate the probability for an occurence of demand quantity to be below *Z* value within a chosen period. I have set 15.000 as a demand threshold as it almost equals to the inverse CDF of a normal distribution."
   ]
  },
  {
   "cell_type": "code",
   "execution_count": 166,
   "metadata": {},
   "outputs": [],
   "source": [
    "z = 15000 # Chosen value is almost equal to the inverse CDF of a normal distribution."
   ]
  },
  {
   "cell_type": "markdown",
   "metadata": {},
   "source": [
    "*MU* is a mean value for product's demand. In our case it's calculated based on data since August 16th."
   ]
  },
  {
   "cell_type": "code",
   "execution_count": 167,
   "metadata": {},
   "outputs": [],
   "source": [
    "mu = np.round(dfOneProduct['Demand'].mean(),decimals=2) # mean value"
   ]
  },
  {
   "cell_type": "markdown",
   "metadata": {},
   "source": [
    "*Sigma (std)* is standard deviation value for product's demand."
   ]
  },
  {
   "cell_type": "code",
   "execution_count": 168,
   "metadata": {},
   "outputs": [],
   "source": [
    "std = np.round((np.std(dfOneProduct['Demand'],ddof=1)),decimals=2) # standard deviation or std"
   ]
  },
  {
   "cell_type": "code",
   "execution_count": 169,
   "metadata": {
    "scrolled": true
   },
   "outputs": [
    {
     "name": "stdout",
     "output_type": "stream",
     "text": [
      "\n",
      " z: 15000 \n",
      " mu: 7361.31 \n",
      " std: 4388.74\n"
     ]
    }
   ],
   "source": [
    "print('\\n','z:',z,'\\n','mu:',mu,'\\n','std:',std)"
   ]
  },
  {
   "cell_type": "markdown",
   "metadata": {},
   "source": [
    "Coefficients below were found by Andrade and Sikorski. These numbers let you calculate inverse standard normal loss function."
   ]
  },
  {
   "cell_type": "code",
   "execution_count": 170,
   "metadata": {},
   "outputs": [],
   "source": [
    "coefficients = [ 4.41738119e-09, 1.79200966e-07, 3.01634229e-06,\n",
    "2.63537452e-05, 1.12381749e-04, 5.71289020e-06,\n",
    "-2.64198510e-03, -1.59986142e-02, -5.60399292e-02,\n",
    "-1.48968884e-01, -3.68776346e-01, -1.22551895e+00,\n",
    "-8.99375602e-01]\n",
    "\n",
    "def inverse_standard_loss(target):\n",
    "    x = np.log(target)\n",
    "    z = np.polyval(coefficients, x)\n",
    "    return z"
   ]
  },
  {
   "cell_type": "code",
   "execution_count": 198,
   "metadata": {},
   "outputs": [],
   "source": [
    "time = 10000    # Time period chosen for simulation.\n",
    "\n",
    "L = 2           # Lead time chosen for simulation.\n",
    "L_std = 0       # No deviation for lead time is added.\n",
    "R = 7           # Replenishment happens every 7 days.\n",
    "\n",
    "x_std = np.sqrt((L+R)*std**2+L_std**2*mu**2)\n",
    "\n",
    "d = np.maximum(np.random.normal(mu,std,time).round(0).astype(int),0)"
   ]
  },
  {
   "cell_type": "code",
   "execution_count": 172,
   "metadata": {},
   "outputs": [],
   "source": [
    "beta = 0.98 # the desired fill rate\n",
    "d_c = mu * R\n",
    "target = d_c*(1-beta)/x_std\n",
    "z = inverse_standard_loss(target) # The service level factor.\n",
    "alpha = round(norm.cdf(z),3)      # The expected cycle service level."
   ]
  },
  {
   "cell_type": "code",
   "execution_count": 174,
   "metadata": {},
   "outputs": [],
   "source": [
    "Ss = np.round(x_std*z).astype(int) \n",
    "Ss = Ss - d_c*(1-beta) # Excess demand result in lost sales rather than backorders.\n",
    "Cs = 1/2 * mu * R      # Cycle stock.\n",
    "Is = mu * L            # Stock in transit.\n",
    "S = Ss + 2*Cs + Is     # Overall stock."
   ]
  },
  {
   "cell_type": "code",
   "execution_count": 175,
   "metadata": {},
   "outputs": [],
   "source": [
    "hand = np.zeros(time,dtype=int)                   # numpy array for stock on hand, that will be updated in for loop\n",
    "transit = np.zeros((time,L+7*L_std+1),dtype=int)  # numpy array for stock in transit, that will be updated in for loop\n",
    "\n",
    "hand[0] = S - d[0]\n",
    "transit[0,L] = d[0]"
   ]
  },
  {
   "cell_type": "code",
   "execution_count": 176,
   "metadata": {},
   "outputs": [],
   "source": [
    "stockout_period = np.full(time,False,dtype=bool)\n",
    "stockout_cycle = []\n",
    "unit_shorts = np.zeros(time,dtype=int)"
   ]
  },
  {
   "cell_type": "code",
   "execution_count": 177,
   "metadata": {},
   "outputs": [],
   "source": [
    "for t in range(1,time):\n",
    "    if transit[t-1,0]>0:\n",
    "        stockout_cycle.append(stockout_period[t-1])\n",
    "    unit_shorts[t] = max(0,d[t] - max(0,hand[t-1] + transit[t-1,0]))\n",
    "    hand[t] = hand[t-1] - d[t] + transit[t-1,0]\n",
    "    stockout_period[t] = hand[t] < 0\n",
    "    hand[t] = max(0,hand[t]) #Uncomment if excess demand result in lost sales rather than backorders\n",
    "    transit[t,:-1] = transit[t-1,1:]        \n",
    "    if t%R==0:\n",
    "        actual_L = int(round(max(np.random.normal(L,L_std),0),0))\n",
    "        net = hand[t] + transit[t].sum()    \n",
    "        transit[t,actual_L] = S - net"
   ]
  },
  {
   "cell_type": "code",
   "execution_count": 178,
   "metadata": {
    "scrolled": false
   },
   "outputs": [
    {
     "name": "stdout",
     "output_type": "stream",
     "text": [
      "Alpha: 84.9\n",
      "Beta: 98.0 \n",
      "\n",
      "Fill Rate: 98.2\n",
      "Cycle Service Level: 86.0\n",
      "Period Service Level: 97.3\n"
     ]
    }
   ],
   "source": [
    "print(\"Alpha:\",round(alpha*100,1))\n",
    "print(\"Beta:\",beta*100,'\\n')\n",
    "\n",
    "fill_rate = 1-unit_shorts.sum()/sum(d)\n",
    "print(\"Fill Rate:\",round(fill_rate*100,1))\n",
    "\n",
    "SL_alpha = 1-sum(stockout_cycle)/len(stockout_cycle)\n",
    "print(\"Cycle Service Level:\",round(SL_alpha*100,1))\n",
    "\n",
    "SL_period = 1-sum(stockout_period)/time\n",
    "print(\"Period Service Level:\",round(SL_period*100,1))"
   ]
  },
  {
   "cell_type": "markdown",
   "metadata": {},
   "source": [
    "According to the cycle service level, we have rather a high possibility (~ 14%) of facing Out of Stock by the end of the cycle (review period). However, the expected amount of goods short is rather low (~ 2%)."
   ]
  },
  {
   "cell_type": "markdown",
   "metadata": {},
   "source": [
    "**Cycle Service Level** means the probability of facing OOS *during a review cycle*. In our case it's 7 days. Even if we face OOS only once during 7 days (for example, on the last day of cycle), we will have 0% service level for this cycle. In this case even 1 day of OOS can effect the overall service level in a greater degree. However, *it doesn't matter whether we had 1 or 2-3 cases of OOS within the cycle*. Its cycle service level is already 0%.\n",
    "\n",
    "Idea for that logic is that we have less periods for estimation: [number of days] / [length of cycle].\n",
    "\n",
    "We're likely to be short of goods during a cycle for the following number of times:"
   ]
  },
  {
   "cell_type": "code",
   "execution_count": 195,
   "metadata": {},
   "outputs": [
    {
     "name": "stdout",
     "output_type": "stream",
     "text": [
      "200\n"
     ]
    }
   ],
   "source": [
    "print(sum(stockout_cycle))"
   ]
  },
  {
   "cell_type": "markdown",
   "metadata": {},
   "source": [
    "**Period Service Level** means the probability of facing OOS *over the whole simulated period*. In our case it's 10000 days.\n",
    "\n",
    "As opposed to cycle service level, one case of OOS doesn't affect the service level so much. *OOS can drop the service level for one day only - when it actually happens*. However, in case of cycle service level, one OOS drops the whole cycle's service level.\n",
    "\n",
    "We are going to have the following number of OOS within the mentioned period. All these cases are distributed over cycles mentioned above. If we have more OOS cased during period than during cycle, it means that in some cycles we had more than 1 OOS. For example, during two last days of cycle before new replenishment nothing could be sold because of OOS. "
   ]
  },
  {
   "cell_type": "code",
   "execution_count": 196,
   "metadata": {
    "scrolled": true
   },
   "outputs": [
    {
     "name": "stdout",
     "output_type": "stream",
     "text": [
      "267\n"
     ]
    }
   ],
   "source": [
    "print(sum(stockout_period))"
   ]
  }
 ],
 "metadata": {
  "kernelspec": {
   "display_name": "Python 3",
   "language": "python",
   "name": "python3"
  },
  "language_info": {
   "codemirror_mode": {
    "name": "ipython",
    "version": 3
   },
   "file_extension": ".py",
   "mimetype": "text/x-python",
   "name": "python",
   "nbconvert_exporter": "python",
   "pygments_lexer": "ipython3",
   "version": "3.8.3"
  }
 },
 "nbformat": 4,
 "nbformat_minor": 4
}
