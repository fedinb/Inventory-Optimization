{
 "cells": [
  {
   "cell_type": "code",
   "execution_count": 79,
   "metadata": {},
   "outputs": [],
   "source": [
    "import numpy as np\n",
    "import pandas as pd\n",
    "import glob, os\n",
    "from scipy.stats import norm\n",
    "import matplotlib.pyplot as plt"
   ]
  },
  {
   "cell_type": "markdown",
   "metadata": {},
   "source": [
    "--- **Data Aggregation and Cleaning were here** ---\n",
    "\n",
    "Initially this script included lines meant for data aggregation and cleaning. As the process is going to be the same for all upcoming scripts, these lines are deleted. However, they can be found in the first script related to Safety and Cycle Stock calculation."
   ]
  },
  {
   "cell_type": "markdown",
   "metadata": {},
   "source": [
    "--- **Cost and Service Level Optimization script starts here** ---"
   ]
  },
  {
   "cell_type": "markdown",
   "metadata": {},
   "source": [
    "Product chosen for this script is one of supplier's topsellers. It's is rarely included in promo activities."
   ]
  },
  {
   "cell_type": "code",
   "execution_count": 98,
   "metadata": {},
   "outputs": [],
   "source": [
    "dfPivot = dfPivot[dfPivot['Base_Unit_Code']=='1234567890']"
   ]
  },
  {
   "cell_type": "markdown",
   "metadata": {},
   "source": [
    "Data sample for the chosen product is displayed below."
   ]
  },
  {
   "cell_type": "code",
   "execution_count": 99,
   "metadata": {},
   "outputs": [
    {
     "name": "stdout",
     "output_type": "stream",
     "text": [
      "Line_ID Movement_Week Movement_Date       EAN_Code Base_Unit_Code   Stock  Transit  Shipped  OOS  Demand\n",
      "6                cw05    2021-02-01  4600000000001     1234567890  117139    17172    11331    0   11331\n",
      "445              cw03    2021-01-20  4600000000001     1234567890   20796    36720    17532    0   17532\n",
      "3969             cw42    2020-10-13  4600000000001     1234567890   28675    22032     8793    0    8793\n",
      "3718             cw43    2020-10-20  4600000000001     1234567890   69933        0    11664    0   11664\n",
      "3315             cw44    2020-11-01  4600000000001     1234567890   53264     4320     5067    0    5067\n"
     ]
    }
   ],
   "source": [
    "print(dfPivot.sample(5))"
   ]
  },
  {
   "cell_type": "markdown",
   "metadata": {},
   "source": [
    "We choose calendar week as a period. "
   ]
  },
  {
   "cell_type": "code",
   "execution_count": 100,
   "metadata": {},
   "outputs": [],
   "source": [
    "dfOneProduct = dfPivot.groupby('Movement_Week',as_index=False)[['Stock','Shipped','OOS','Demand']].sum()"
   ]
  },
  {
   "cell_type": "markdown",
   "metadata": {},
   "source": [
    "Aggregated quantities can be observed in the following table."
   ]
  },
  {
   "cell_type": "code",
   "execution_count": 101,
   "metadata": {
    "scrolled": true
   },
   "outputs": [
    {
     "name": "stdout",
     "output_type": "stream",
     "text": [
      "Line_ID Movement_Week  Demand\n",
      "16               cw44   41607\n",
      "17               cw45   37393\n",
      "18               cw46   62100\n",
      "19               cw47   60111\n",
      "20               cw48   94296\n",
      "21               cw49   75029\n",
      "22               cw50   69098\n",
      "23               cw51    9144\n",
      "24               cw52   27278\n",
      "25               cw53   53959\n"
     ]
    }
   ],
   "source": [
    "print(dfOneProduct[['Movement_Week','Demand']].tail(10))"
   ]
  },
  {
   "cell_type": "markdown",
   "metadata": {},
   "source": [
    "*MU* is a mean value for product's demand. In our case it's calculated based on data since August 16th."
   ]
  },
  {
   "cell_type": "code",
   "execution_count": 102,
   "metadata": {},
   "outputs": [],
   "source": [
    "mu = np.round(dfOneProduct['Demand'].mean(),decimals=2) # mean value"
   ]
  },
  {
   "cell_type": "markdown",
   "metadata": {},
   "source": [
    "*Sigma (std)* is standard deviation value for product's demand."
   ]
  },
  {
   "cell_type": "code",
   "execution_count": 103,
   "metadata": {},
   "outputs": [],
   "source": [
    "std = np.round((np.std(dfOneProduct['Demand'],ddof=1)),decimals=2) # standard deviation or std"
   ]
  },
  {
   "cell_type": "code",
   "execution_count": 104,
   "metadata": {
    "scrolled": true
   },
   "outputs": [
    {
     "name": "stdout",
     "output_type": "stream",
     "text": [
      "\n",
      " mu: 48699.31 \n",
      " std: 20484.33\n"
     ]
    }
   ],
   "source": [
    "print('\\n','mu:',mu,'\\n','std:',std)"
   ]
  },
  {
   "cell_type": "code",
   "execution_count": 105,
   "metadata": {
    "scrolled": true
   },
   "outputs": [
    {
     "name": "stdout",
     "output_type": "stream",
     "text": [
      "   Review Period  Inventory Cost  Cycle Service Level  Fill Rate\n",
      "0            1.0        31524.43                 97.5    99.9994\n",
      "1            2.0        61474.62                 95.0    99.9992\n",
      "2            3.0        91753.77                 92.5    99.9989\n",
      "3            4.0       122113.71                 90.0    99.9987\n",
      "4            5.0       152505.27                 87.5    99.9985\n",
      "5            6.0       182912.25                 85.0    99.9983\n",
      "6            7.0       213327.81                 82.5    99.9981\n"
     ]
    }
   ],
   "source": [
    "def normal_loss_standard(x):                                          # function calculates the amount of units\n",
    "    return norm.pdf(x) - x*(1-norm.cdf(x))                            # you're likely to run short.                      \n",
    "\n",
    "def cost(h,d_mu,R,z,x_std,k,b):                                       # function calculates the inventory cost based on\n",
    "    return h*(mu*R/2+z*x_std)+k/R+b*x_std*normal_loss_standard(z)/R   # the inputs below  \n",
    "\n",
    "def CSL_optimal(b,h,R):                                               # function calculates \n",
    "    return 1-(h*R)/b                                                  # the optimal cycle service level - alpha\n",
    "    \n",
    "\n",
    "h = 1.25    # holding cost per week per unit\n",
    "R = 1       # review period in weeks\n",
    "L = 0.43    # lead time in weeks (here we have the equivalent of 3 days)\n",
    "k = 1000    # transaction cost\n",
    "b = 50      # backorder cost per unit\n",
    "\n",
    "\n",
    "df = pd.DataFrame(columns=[\"Review Period\", \"Inventory Cost\", \"Cycle Service Level\", \"Fill Rate\"])\n",
    "for R in [1,2,3,4,5,6,7]:        # cost and service level are calculated per each review period\n",
    "    x_std = 25*np.sqrt(R+L)\n",
    "    alpha = CSL_optimal(b,h,R)\n",
    "    z = norm.ppf(alpha)\n",
    "    beta = 1 - x_std*normal_loss_standard(z)/R/mu\n",
    "    df = df.append({\"Cycle Service Level\":np.round(alpha*100,decimals=2), \n",
    "                    \"Fill Rate\":np.round(beta*100,decimals=4), \n",
    "                    \"Inventory Cost\":np.round(cost(h,mu,R,z,x_std,k,b),decimals=2), \n",
    "                    \"Review Period\":R},\n",
    "                     ignore_index=True)\n",
    "\n",
    "print(df)"
   ]
  },
  {
   "cell_type": "markdown",
   "metadata": {},
   "source": [
    "In the table above we can see which inventory cost, cycle service level and fill rate we can expect with any proposed review period.\n",
    "\n",
    "The plot below provides a clear overview of the chart."
   ]
  },
  {
   "cell_type": "code",
   "execution_count": 106,
   "metadata": {},
   "outputs": [
    {
     "data": {
      "image/png": "[encoded data removed]",
      "text/plain": [
       "<Figure size 576x288 with 3 Axes>"
      ]
     },
     "metadata": {
      "needs_background": "light"
     },
     "output_type": "display_data"
    }
   ],
   "source": [
    "fig, ax_left = plt.subplots()\n",
    "ax_right = ax_left.twinx()\n",
    "\n",
    "df[[\"Inventory Cost\",\"Cycle Service Level\",\"Fill Rate\"]].plot(ax=ax_left,\n",
    "                                                              figsize=(8,4),\n",
    "                                                              secondary_y= [\"Cycle Service Level\",\"Fill Rate\"])\n",
    "\n",
    "\n",
    "ax_left.set_xlabel('Review Period (Weeks)')\n",
    "ax_left.set_ylabel('Inventory Cost (₽)')\n",
    "ax_right.set_ylabel('Cycle Service Level / Fill Rate (%)',labelpad=37)\n",
    "ax_right.set_yticks([])\n",
    "\n",
    "h1, l1 = ax_left.get_legend_handles_labels()             # next 5 lines let us add a legend block to the lower center\n",
    "h2, l2 = ax_left.right_ax.get_legend_handles_labels()\n",
    "handles = h1+h2\n",
    "labels = l1+l2\n",
    "ax_left.legend(handles, labels, loc=8, ncol=1)\n",
    "\n",
    "x1, y1, y2 = [-0.01,3], [97.5,90], [80,90]               # coordinates of the area that shows the suitable range for\n",
    "                                                         # inventory cost and cycle service level\n",
    "\n",
    "plt.fill_between(x1, y1, y2, color='C2', alpha=0.2, hatch='xx')  # the chosen area above is filled with color\n",
    "\n",
    "plt.show()"
   ]
  },
  {
   "cell_type": "markdown",
   "metadata": {},
   "source": [
    "The plot above displays that it would be profitable to keep the review period within 3 days. There will be a balance between cycle service level and inventory cost. \n",
    "\n",
    "The best result is achieved with the shortest possible review period. Fill rate remains high with any review period.\n",
    "\n",
    "When review period is extended, it will cause negative effect in both costs and service level."
   ]
  },
  {
   "cell_type": "code",
   "execution_count": null,
   "metadata": {},
   "outputs": [],
   "source": []
  }
 ],
 "metadata": {
  "kernelspec": {
   "display_name": "Python 3",
   "language": "python",
   "name": "python3"
  },
  "language_info": {
   "codemirror_mode": {
    "name": "ipython",
    "version": 3
   },
   "file_extension": ".py",
   "mimetype": "text/x-python",
   "name": "python",
   "nbconvert_exporter": "python",
   "pygments_lexer": "ipython3",
   "version": "3.8.3"
  }
 },
 "nbformat": 4,
 "nbformat_minor": 4
}
